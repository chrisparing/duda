{
 "cells": [
  {
   "cell_type": "markdown",
   "id": "f9574777",
   "metadata": {},
   "source": [
    "# CY CERGY PARIS UNIVERSITÉ - DU DATA ANALYST 2022-2023"
   ]
  },
  {
   "cell_type": "markdown",
   "id": "11ddce6e",
   "metadata": {},
   "source": [
    "## Cours 04 - Rédaction d'un rapport d'analyse\n",
    "### Par : PARING, Madanassono Pouezi\n",
    "### Professeur : Dr CISEL, Matthieu"
   ]
  },
  {
   "cell_type": "markdown",
   "id": "1311e0be",
   "metadata": {},
   "source": [
    "### *Choix du jeu de données: 3.3 Jeu de données artificiel didactisé (fichier \"users.db.csv\")*\n",
    "*Vous avez enfin l’option de travailler sur un jeu de données didactisé, que nous avons conçu spécialement pour un cours visant à développer l’autonomie dans l’analyse de données. Ce jeu de données porte sur des profils Tinder artificiels, c’est-à-dire que nous avons créé le jeu de données de bout en bout, cachant des relations entre variables (nombre de photos postées, score et popularité, etc.). L’exercice consiste à retrouver et décrire le plus grand nombre possible de patterns dans les données, ainsi que les quelques incohérences que nous avons intentionnellement introduites. Si vous faites le choix de travailler en équipe, vous devrez prouver, via votre notebook, que vous n’avez pas simplement pris les figures/résultats d’un coéquipier (ces figures doivent être présentes dans votre notebook mais pas dans le sien).*\n",
    "\n",
    "https://ucergyfr.sharepoint.com/:x:/s/DUDataAnalyst2023/ESnZ_S3R-y5KuHTXryBXc8QBWRpv8zgke22-uSg_XE-HIw"
   ]
  },
  {
   "cell_type": "markdown",
   "id": "fd45e1ca",
   "metadata": {},
   "source": [
    "#### Description des colonnes\n",
    "1. userid : Identificateur de l’utilisateur\n",
    "2. date.crea : Date de création du compte\n",
    "3. score : Score associé au profile (reflétant le succès sur l’application)\n",
    "4. n.matches : Nombre total de matchs depuis la création du compte\n",
    "5. n.updates.photo : Nombre de mises à jour de photo\n",
    "6. n.photos : Nombre de photos sur le profil\n",
    "7. last.connex : Date de la dernière connexion\n",
    "8. last.up.photo : Date de la dernière mise à jour de la photo de profil\n",
    "9. last.pr.update : Date de la dernière mise à jour du texte du profil\n",
    "10. gender : Genre, 0 pour homme, 1 pour femme, 2 pour autres\n",
    "11. sent.ana : Analyse du sentiment du texte du profil\n",
    "12. length.prof : Nombre de mots dans le profil\n",
    "13. voyage : Mot-clé voyage trouvé dans le profil, 0 pour oui, 1 pour non\n",
    "14. laugh : Mot-clé rire trouvé dans le profil, 0 pour oui, 1 pour non\n",
    "15. photo.keke : Photo de profil prise en maillot de bain, dans un ascenseur, ou avec des lunettes de soleil, 0 pour oui, 1 pour non\n",
    "16. photo.beach : Une des photos de profil est prise à la plage, 0 pour oui, 1 pour non"
   ]
  },
  {
   "cell_type": "markdown",
   "id": "f3350211",
   "metadata": {},
   "source": [
    "# 1 Préparation des données"
   ]
  },
  {
   "cell_type": "markdown",
   "id": "7e643e50",
   "metadata": {},
   "source": [
    "## 1.1 Chargement des bibliothèques et création de dossiers"
   ]
  },
  {
   "cell_type": "code",
   "execution_count": null,
   "id": "9b46189d",
   "metadata": {},
   "outputs": [],
   "source": [
    "import pandas as pd\n",
    "import matplotlib.pyplot as plt\n",
    "import seaborn as sns\n",
    "import missingno as msno\n",
    "import pingouin as pg\n",
    "from statsmodels.graphics.mosaicplot import mosaic"
   ]
  },
  {
   "cell_type": "code",
   "execution_count": null,
   "id": "2d1cae0f",
   "metadata": {},
   "outputs": [],
   "source": [
    "# Create folders\n",
    "import os\n",
    "folders = [\"dataset/\", \"img/\", \"export/\"]\n",
    "for folder in folders:\n",
    "    os.makedirs(folder, exist_ok=True)"
   ]
  },
  {
   "cell_type": "markdown",
   "id": "4fa7262d",
   "metadata": {},
   "source": [
    "## 1.2 Importation des données"
   ]
  },
  {
   "cell_type": "code",
   "execution_count": null,
   "id": "9d81e907",
   "metadata": {
    "scrolled": true
   },
   "outputs": [],
   "source": [
    "# Get data from csv file\n",
    "dateCols = [\"date.crea\", \"last.connex\", \"last.up.photo\"]\n",
    "dfTinder = pd.read_csv(\"dataset/users.db.csv\", encoding=\"utf-8\", index_col=0, parse_dates=dateCols)\n",
    "\n",
    "# print DataFrame info and some records\n",
    "dfTinder.info()\n",
    "dfTinder.head()"
   ]
  },
  {
   "cell_type": "markdown",
   "id": "1d1407d8",
   "metadata": {},
   "source": [
    "## 1.3 Nettoyage des données"
   ]
  },
  {
   "cell_type": "code",
   "execution_count": null,
   "id": "f0606458",
   "metadata": {},
   "outputs": [],
   "source": [
    "# Display descriptive summary statistics\n",
    "dfTinder.describe(datetime_is_numeric=True)"
   ]
  },
  {
   "cell_type": "code",
   "execution_count": null,
   "id": "aa0a03e8",
   "metadata": {},
   "outputs": [],
   "source": [
    "# Since \"sent.ana\" is solely profile text related, it should have the same value wherever \"length.prof\" = 0\n",
    "dfTinder[dfTinder[\"length.prof\"] == 0][\"sent.ana\"].duplicated().sum()"
   ]
  },
  {
   "cell_type": "code",
   "execution_count": null,
   "id": "0ce65072",
   "metadata": {},
   "outputs": [],
   "source": [
    "# Drop all values that are considered as invalid\n",
    "dfTinder[\"last.connex\"] = dfTinder[\"last.connex\"].where(dfTinder[\"last.connex\"] >= dfTinder[\"date.crea\"])\n",
    "dfTinder[\"n.updates.photo\"].where(dfTinder[\"n.updates.photo\"] >= 0, inplace=True)\n",
    "dfTinder[\"length.prof\"].where(dfTinder[\"length.prof\"] == dfTinder[\"length.prof\"].astype(\"int\"), inplace=True)\n",
    "dfTinder[\"sent.ana\"].where(dfTinder[\"sent.ana\"].isna(), inplace=True)\n",
    "\n",
    "# Print missing values counts and plot their matrix\n",
    "print(\"MISSING VALUES COUNT\")\n",
    "print(dfTinder.isna().sum())\n",
    "print(\"\\n\\nMISSING DATA MATRIX\")\n",
    "axMissingData =msno.matrix(dfTinder)\n",
    "plt.show()\n",
    "axMissingData.figure.savefig(\"img/missing_data\", dpi=300)"
   ]
  },
  {
   "cell_type": "code",
   "execution_count": null,
   "id": "72c55287",
   "metadata": {},
   "outputs": [],
   "source": [
    "# Add columns for presence duration: days count from account creation to last connexion\n",
    "dfTinder[\"n.days.to.last.connex\"] = dfTinder[\"last.connex\"] - dfTinder[\"date.crea\"]\n",
    "dfTinder[\"n.days.to.last.connex\"] = dfTinder[\"n.days.to.last.connex\"].transform(lambda x: x.days)"
   ]
  },
  {
   "cell_type": "code",
   "execution_count": null,
   "id": "6de33bcc",
   "metadata": {},
   "outputs": [],
   "source": [
    "# Update coded values for more meaningful ones\n",
    "dfTinder[\"gender\"] = dfTinder[\"gender\"].map({0: \"Homme\", 1: \"Femme\", 2: \"Autres\"})\n",
    "for col in [\"voyage\", \"laugh\", \"photo.keke\", \"photo.beach\"]:\n",
    "    dfTinder[col] = dfTinder[col].map({0: \"Non\", 1: \"Oui\"})"
   ]
  },
  {
   "cell_type": "code",
   "execution_count": null,
   "id": "58f3681b",
   "metadata": {},
   "outputs": [],
   "source": [
    "# Export cleaned data to CSV: table.exportcsv.csv\n",
    "dfTinder.to_csv(\"export/table.exportcsv.csv\", encoding=\"utf-8\")"
   ]
  },
  {
   "cell_type": "markdown",
   "id": "2d08b783",
   "metadata": {},
   "source": [
    "# 2 Description du jeu de données"
   ]
  },
  {
   "cell_type": "code",
   "execution_count": null,
   "id": "9009ec6d",
   "metadata": {},
   "outputs": [],
   "source": [
    "# Descriptive statistics, group by gender\n",
    "print(\"GENDER VALUE COUNT PERCENTAGE\")\n",
    "print(dfTinder[\"gender\"].value_counts(normalize=True))\n",
    "print(\"\\n\\nSTATISTICS BY GENDER\")\n",
    "valuesCols = [\"score\", \"n.matches\", \"n.photos\", \"n.days.to.last.connex\"]\n",
    "descStats = dfTinder.pivot_table(values=valuesCols, columns=\"gender\", aggfunc=[\"count\", \"mean\", \"median\", \"std\", \"min\", \"max\"])\n",
    "descStats.to_excel(\"export/table.descstats.exportexcel.xlsx\", sheet_name=\"Desc stats\")\n",
    "descStats"
   ]
  },
  {
   "cell_type": "code",
   "execution_count": null,
   "id": "a584103c",
   "metadata": {},
   "outputs": [],
   "source": [
    "# Box plots of variables versus gender: \"score\", \"n.matches\", \"n.photos\", \"n.days.to.last.connex\"\n",
    "axisLabelsFormat = dict(labelpad=10, fontdict={\"fontsize\": 12, \"fontfamily\": \"Garamond\", \"fontweight\": \"bold\"})\n",
    "fig, ((ax1, ax2), (ax3, ax4)) = plt.subplots(2, 2, figsize=(10, 10))\n",
    "fig.tight_layout(pad=2, h_pad=4, w_pad=4, rect=None)\n",
    "\n",
    "sns.boxplot(data=dfTinder, x=\"gender\", y=\"n.matches\", ax=ax1)\n",
    "ax1.set_ylabel(\"Nombre de matchs\", **axisLabelsFormat)\n",
    "\n",
    "sns.boxplot(data=dfTinder, x=\"gender\", y=\"score\", ax=ax2)\n",
    "ax2.set_ylabel(\"Score\", **axisLabelsFormat)\n",
    "\n",
    "sns.boxplot(data=dfTinder, x=\"gender\", y=\"n.photos\", ax=ax3)\n",
    "ax3.set_ylabel(\"Nombre de photos\", **axisLabelsFormat)\n",
    "\n",
    "sns.boxplot(data=dfTinder, x=\"gender\", y=\"n.days.to.last.connex\", ax=ax4)\n",
    "ax4.set_ylabel(\"Nombre de jours de présence\", **axisLabelsFormat)\n",
    "\n",
    "for ax in (ax1, ax2, ax3, ax4):\n",
    "    ax.set_xlabel(\"Genre\", **axisLabelsFormat)\n",
    "\n",
    "plt.show()\n",
    "fig.savefig(\"img/boxplots\", dpi=300)"
   ]
  },
  {
   "cell_type": "code",
   "execution_count": null,
   "id": "433097be",
   "metadata": {},
   "outputs": [],
   "source": [
    "# Plot by gender the mean matches count versus profile photos count, plot their distributions as well\n",
    "g = sns.JointGrid(data=dfTinder, x=\"n.photos\", y=\"n.matches\", hue=\"gender\")\n",
    "g.plot_joint(sns.lineplot, estimator=\"mean\", ci=None)\n",
    "g.plot_marginals(sns.histplot, multiple=\"dodge\", shrink=1.2)\n",
    "g.ax_joint.set(ylim=[0, 50], xlim=[0, 13], yticks=range(0, 55, 5), xticks=range(1, 15, 2))\n",
    "sns.move_legend(g.ax_joint, \"lower center\", bbox_to_anchor=(.5, 1.2), ncol=3, title=None, frameon=False)\n",
    "axisLabelsFormat = dict(labelpad=10, fontdict={\"fontsize\": 12, \"fontfamily\": \"Garamond\", \"fontweight\": \"bold\"})\n",
    "g.ax_joint.set_xlabel(\"Nombre de photos\", **axisLabelsFormat)\n",
    "g.ax_joint.set_ylabel(\"Nombre de matchs\", **axisLabelsFormat)\n",
    "plt.show()\n",
    "g.savefig(\"img/jointplot_photos_matches\", dpi=300)"
   ]
  },
  {
   "cell_type": "code",
   "execution_count": null,
   "id": "efbe024e",
   "metadata": {},
   "outputs": [],
   "source": [
    "# Overview of presence time frame by gender\n",
    "ax = sns.histplot(data=dfTinder, x=\"n.days.to.last.connex\", hue=\"gender\", multiple=\"dodge\")\n",
    "ax.set(xlim=[0, 100], xticks=range(10, 100, 20))\n",
    "sns.move_legend(ax, \"lower center\", bbox_to_anchor=(.5, 1), ncol=3, title=None, frameon=False)\n",
    "axisLabelsFormat = dict(labelpad=10, fontdict={\"fontsize\": 12, \"fontfamily\": \"Garamond\", \"fontweight\": \"bold\"})\n",
    "ax.set_xlabel(\"Nombre de jours de présence\", **axisLabelsFormat)\n",
    "ax.set_ylabel(\"Nombre de profils Tinder\", **axisLabelsFormat)\n",
    "plt.show()\n",
    "ax.figure.savefig(\"img/histplot_days_users\", dpi=300)"
   ]
  },
  {
   "cell_type": "markdown",
   "id": "13079203",
   "metadata": {},
   "source": [
    "# 3 Tests statistiques"
   ]
  },
  {
   "cell_type": "markdown",
   "id": "d0e864f2",
   "metadata": {},
   "source": [
    "## 3.1 Tests d'indépendance de variables : Chi2 et mosaic plot"
   ]
  },
  {
   "cell_type": "code",
   "execution_count": null,
   "id": "224ad9dc",
   "metadata": {},
   "outputs": [],
   "source": [
    "def testChi2AndPlotMosaic(data, x, y, xlabel, ylabel, title):\n",
    "    print(\"\\n\" + 100*\"*\" + \"\\n\", \"Test Chi2:\", xlabel, \"et\", ylabel, \"\\n\" + 100*\"*\")\n",
    "    expected, observed, stats = pg.chi2_independence(data, x, y)\n",
    "    print(\"\\nstats\", 100*\"=\", stats, sep=\"\\n\")\n",
    "    print(\"\\nobserved\", 100*\"=\", observed.unstack(), sep=\"\\n\")\n",
    "    fig, ax = plt.subplots()\n",
    "    fig, rects = mosaic(observed.unstack(), statistic=True, gap=0.01, labelizer=(lambda x: None), ax=ax)\n",
    "    [ax.spines[side].set(linewidth=2) for side in [\"left\", \"right\", \"top\", \"bottom\"]]\n",
    "    # ax.set_title(title, pad=10, fontdict={\"fontsize\": 15, \"fontfamily\": \"Garamond\", \"fontweight\": \"bold\"})\n",
    "    axisLabelsFormat = dict(labelpad=10, fontdict={\"fontsize\": 13, \"fontfamily\": \"Garamond\", \"fontweight\": \"bold\"})\n",
    "    ax.set_ylabel(ylabel.center(35), loc=\"top\", **axisLabelsFormat)\n",
    "    ax.set_xlabel(xlabel, **axisLabelsFormat)\n",
    "    plt.show()\n",
    "    fig.savefig(f\"img/mosaicplot-{y}-{x}.png\", dpi=300)\n",
    "\n",
    "kwargs = {\"y\": \"gender\", \"xlabel\": \"Genre\"}\n",
    "testChi2AndPlotMosaic(dfTinder, title=\"A\", x=\"voyage\", ylabel=\"Voyage dans le texte\", **kwargs)\n",
    "testChi2AndPlotMosaic(dfTinder, title=\"B\", x=\"laugh\", ylabel=\"Rire dans le texte\", **kwargs)\n",
    "testChi2AndPlotMosaic(dfTinder, title=\"C\", x=\"photo.keke\", ylabel=\"Photo kéké\", **kwargs)\n",
    "testChi2AndPlotMosaic(dfTinder, title=\"D\", x=\"photo.beach\", ylabel=\"Photo de plage\", **kwargs)\n",
    "plt.show()\n"
   ]
  },
  {
   "cell_type": "markdown",
   "id": "f0de8870",
   "metadata": {},
   "source": [
    "## 3.2 Évaluation de l'effet du genre et du nombre de photos sur le score (ANCOVA)"
   ]
  },
  {
   "cell_type": "code",
   "execution_count": null,
   "id": "622ad04c",
   "metadata": {},
   "outputs": [],
   "source": [
    "ancovaTest = pg.ancova(data=dfTinder, dv=\"score\", covar=\"n.photos\", between=\"gender\")\n",
    "ancovaTest.to_clipboard(excel=True)\n",
    "ancovaTest"
   ]
  },
  {
   "cell_type": "code",
   "execution_count": null,
   "id": "febec04d",
   "metadata": {},
   "outputs": [],
   "source": [
    "pg.homoscedasticity(data=dfTinder, dv=\"score\", group=\"n.photos\")"
   ]
  },
  {
   "cell_type": "code",
   "execution_count": null,
   "id": "2db7853f",
   "metadata": {},
   "outputs": [],
   "source": [
    "pg.homoscedasticity(data=dfTinder, dv=\"score\", group=\"gender\")"
   ]
  },
  {
   "cell_type": "markdown",
   "id": "a6e4e903",
   "metadata": {},
   "source": [
    "## 3.3 Évaluation de l'effet du genre et du nombre de photos sur le nombre de matchs (ANCOVA)"
   ]
  },
  {
   "cell_type": "code",
   "execution_count": null,
   "id": "8d2a2817",
   "metadata": {},
   "outputs": [],
   "source": [
    "ancovaTest = pg.ancova(data=dfTinder, dv=\"n.matches\", covar=\"n.photos\", between=\"gender\")\n",
    "ancovaTest.to_clipboard(excel=True)\n",
    "ancovaTest"
   ]
  },
  {
   "cell_type": "code",
   "execution_count": null,
   "id": "eadb9ca8",
   "metadata": {},
   "outputs": [],
   "source": [
    "pg.homoscedasticity(data=dfTinder, dv=\"n.matches\", group=\"n.photos\")"
   ]
  },
  {
   "cell_type": "code",
   "execution_count": null,
   "id": "65411af3",
   "metadata": {},
   "outputs": [],
   "source": [
    "pg.homoscedasticity(data=dfTinder, dv=\"n.matches\", group=\"gender\")"
   ]
  },
  {
   "cell_type": "markdown",
   "id": "9e31805a",
   "metadata": {},
   "source": [
    "## 3.3 Lien entre score et nombre de matchs"
   ]
  },
  {
   "cell_type": "code",
   "execution_count": null,
   "id": "6adb921b",
   "metadata": {},
   "outputs": [],
   "source": [
    "def testPearsonCorrScoreMatches(gender=None):\n",
    "    df = dfTinder if gender is None else dfTinder[dfTinder[\"gender\"] == gender]\n",
    "    corrTest = pg.corr(x=df[\"score\"], y=df[\"n.matches\"], method=\"pearson\")\n",
    "    corrTest[\"r2\"] = corrTest.r['pearson']**2\n",
    "    corrTest[\"Gender\"] = \"All\" if gender is None else gender\n",
    "    return corrTest\n",
    "\n",
    "corrTests = [testPearsonCorrScoreMatches(gender) for gender in dfTinder[\"gender\"].unique()]\n",
    "corrTests.append(testPearsonCorrScoreMatches())\n",
    "dfCorrTests = pd.concat(corrTests)\n",
    "dfCorrTests.to_excel(\"export/table.exportexcel.xlsx\", sheet_name=\"TestPearson Score-Matches\")\n",
    "dfCorrTests\n"
   ]
  },
  {
   "cell_type": "code",
   "execution_count": null,
   "id": "9303c787",
   "metadata": {
    "scrolled": true
   },
   "outputs": [],
   "source": [
    "g = sns.lmplot(data=dfTinder, x=\"score\", y=\"n.matches\", hue=\"gender\", scatter_kws={\"s\": 10, \"facecolor\":\"white\"}, line_kws={\"linewidth\":1.5})\n",
    "sns.move_legend(g, \"lower center\", bbox_to_anchor=(.45, 1), ncol=3, title=None, frameon=False)\n",
    "axisLabelsFormat = dict(labelpad=10, fontdict={\"fontsize\": 12, \"fontfamily\": \"Garamond\", \"fontweight\": \"bold\"})\n",
    "g.set_ylabels(\"Nombre de matchs\", **axisLabelsFormat)\n",
    "g.set_xlabels(\"Score\", **axisLabelsFormat)\n",
    "plt.show()\n",
    "g.savefig(\"img/regplot\", dpi=300)"
   ]
  }
 ],
 "metadata": {
  "kernelspec": {
   "display_name": "Python 3 (ipykernel)",
   "language": "python",
   "name": "python3"
  },
  "language_info": {
   "codemirror_mode": {
    "name": "ipython",
    "version": 3
   },
   "file_extension": ".py",
   "mimetype": "text/x-python",
   "name": "python",
   "nbconvert_exporter": "python",
   "pygments_lexer": "ipython3",
   "version": "3.9.13"
  }
 },
 "nbformat": 4,
 "nbformat_minor": 5
}
